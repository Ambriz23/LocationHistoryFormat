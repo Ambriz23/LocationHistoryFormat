{
 "cells": [
  {
   "cell_type": "markdown",
   "metadata": {},
   "source": [
    "# Generate Activity Type Icons\n",
    "\n",
    "This notebook is used to generate the icons and definitions for the `#/$defs$defs/activityType` schema of the Semantic Location Data schema.\n",
    "\n",
    "Icons source: [Material Icons: Google Fonts](https://fonts.google.com/icons)."
   ]
  },
  {
   "cell_type": "code",
   "execution_count": null,
   "metadata": {},
   "outputs": [],
   "source": [
    "import json\n",
    "from pathlib import Path\n",
    "\n",
    "import pandas as pd\n",
    "import xml.etree.ElementTree as ET\n",
    "\n",
    "sys.path.append(\"../\")\n",
    "from common import download_text, save_text"
   ]
  },
  {
   "cell_type": "code",
   "execution_count": null,
   "metadata": {},
   "outputs": [],
   "source": [
    "OUTPUT_PATH = \"../../docs/static/icons/activity_types/\"\n",
    "\n",
    "\n",
    "# This data has been obtained from reverse engineering the Javascript in the Timeline website\n",
    "# and generating test Google Takeout extractions that exhaustively covered all of the activities.\n",
    "ICONS = [\n",
    "    [0, \"#03a9f4\", \"UNKNOWN_ACTIVITY_TYPE\", \"Moving\", \"moving\"],\n",
    "    [1, \"#01579b\", \"STILL\", \"Still\", \"man\"],  # Assigning 'STILL' to 1 is just a guess, and 1 is not taken otherwise.\n",
    "    [2, \"#03a9f4\", \"WALKING\", \"Walking\", \"directions_walk\"],\n",
    "    [3, \"#4db6ac\", \"CYCLING\", \"Cycling\", \"directions_bike\"],\n",
    "    # [4 , \"\", \"IN_VEHICLE\", \"\", \"\"],  # Seems it is deprecated.\n",
    "    [5, \"#3f51b5\", \"FLYING\", \"Flying\", \"local_airport\"],\n",
    "    [6, \"#c2185b\", \"RUNNING\", \"Running\", \"directions_run\"],\n",
    "    [7, \"#01579b\", \"IN_BUS\", \"On a bus\", \"directions_bus\"],\n",
    "    [8, \"#01579b\", \"IN_TRAIN\", \"On a train\", \"directions_railway\"],\n",
    "    [9, \"#01579b\", \"IN_SUBWAY\", \"On the subway\", \"subway\"],\n",
    "    [10, \"#01579b\", \"IN_TRAM\", \"On a tram\", \"tram\"],\n",
    "    [11, \"#01579b\", \"IN_FERRY\", \"On a ferry\", \"directions_boat\"],\n",
    "    [12, \"#01579b\", \"IN_CABLECAR\", \"In a cable car\", \"moving\"],\n",
    "    [13, \"#01579b\", \"IN_FUNICULAR\", \"On a funicular\", \"moving\"],\n",
    "    [14, \"#c2185b\", \"HIKING\", \"Hiking\", \"hiking\"],\n",
    "    [15, \"#4db6ac\", \"KAYAKING\", \"Kayaking\", \"kayaking\"],\n",
    "    [16, \"#4db6ac\", \"KITESURFING\", \"Kitesurfing\", \"kitesurfing\"],\n",
    "    [17, \"#c2185b\", \"ROWING\", \"Rowing\", \"rowing\"],\n",
    "    [18, \"#4db6ac\", \"SAILING\", \"Sailing\", \"sailing\"],\n",
    "    [19, \"#4db6ac\", \"SKATING\", \"Skating\", \"ice_skating\"],\n",
    "    [20, \"#4db6ac\", \"SKIING\", \"Skiing\", \"downhill_skiing\"],\n",
    "    [21, \"#4db6ac\", \"SKATEBOARDING\", \"Skateboarding\", \"skateboarding\"],\n",
    "    [22, \"#4db6ac\", \"SLEDDING\", \"Sledding\", \"sledding\"],\n",
    "    [23, \"#4db6ac\", \"SNOWBOARDING\", \"Snowboarding\", \"snowboarding\"],\n",
    "    [24, \"#01579b\", \"SNOWMOBILE\", \"Snowmobiling\", \"snowmobile\"],\n",
    "    [25, \"#c2185b\", \"SNOWSHOEING\", \"Snowshoeing\", \"snowshoeing\"],\n",
    "    [26, \"#4db6ac\", \"SURFING\", \"Surfing\", \"surfing\"],\n",
    "    [27, \"#c2185b\", \"SWIMMING\", \"Swimming\", \"pool\"],\n",
    "    [28, \"#c2185b\", \"WALKING_NORDIC\", \"Nordic walking\", \"nordic_walking\"],\n",
    "    [29, \"#01579b\", \"IN_PASSENGER_VEHICLE\", \"Driving\", \"directions_car\"],\n",
    "    [30, \"#01579b\", \"MOTORCYCLING\", \"Motorcycling\", \"motorcycle\"],\n",
    "    [31, \"#01579b\", \"BOATING\", \"Boating\", \"directions_boat\"],\n",
    "    [32, \"#03a9f4\", \"IN_WHEELCHAIR\", \"By wheelchair\", \"accessible_forward\"],\n",
    "    [33, \"#4db6ac\", \"HORSEBACK_RIDING\", \"Horseback riding\", \"moving\"],\n",
    "    [34, \"#01579b\", \"IN_GONDOLA_LIFT\", \"In a gondola lift\", \"moving\"],\n",
    "    [35, \"#db4437\", \"CATCHING_POKEMON\", \"Catching Pokémon\", \"catching_pokemon\"],\n",
    "    [36, \"#01579b\", \"IN_TAXI\", \"In a taxi\", \"local_taxi\"],\n",
    "    [37, \"#4db6ac\", \"PARAGLIDING\", \"Paragliding\", \"paragliding\"],\n",
    "]\n",
    "\n",
    "columns = [\"activity_id\", \"activity_color\", \"activity_key\", \"activity_name\", \"material_icon\"]"
   ]
  },
  {
   "cell_type": "code",
   "execution_count": null,
   "metadata": {},
   "outputs": [],
   "source": [
    "df_activities = pd.DataFrame.from_records(ICONS, columns=columns)\n",
    "df_activities"
   ]
  },
  {
   "cell_type": "code",
   "execution_count": null,
   "metadata": {},
   "outputs": [],
   "source": [
    "def process_svg(svg_content):\n",
    "    ns = {\"svg\": \"http://www.w3.org/2000/svg\"}\n",
    "    ET.register_namespace(\"\", ns[\"svg\"])\n",
    "\n",
    "    svg = ET.fromstring(svg_content)\n",
    "\n",
    "    # Set the main color.\n",
    "    svg.attrib[\"fill\"] = \"#666\"\n",
    "\n",
    "    # Return the SVG as a string.\n",
    "    return ET.tostring(svg, method=\"xml\", encoding=\"unicode\")"
   ]
  },
  {
   "cell_type": "markdown",
   "metadata": {},
   "source": [
    "## Generate Icons"
   ]
  },
  {
   "cell_type": "code",
   "execution_count": null,
   "metadata": {},
   "outputs": [],
   "source": [
    "for idx, row in df_activities.iterrows():\n",
    "    icon_name = row['material_icon']\n",
    "\n",
    "    icon_urls = [\n",
    "        f\"https://fonts.gstatic.com/s/i/materialiconsround/{icon_name}/v4/24px.svg\",\n",
    "        f\"https://fonts.gstatic.com/s/i/materialiconsround/{icon_name}/v12/24px.svg\",\n",
    "        f\"https://fonts.gstatic.com/s/i/materialiconsround/{icon_name}/v14/24px.svg\",\n",
    "        f\"https://fonts.gstatic.com/s/i/materialiconsround/{icon_name}/v17/24px.svg\",\n",
    "        f\"https://fonts.gstatic.com/s/i/short-term/release/materialsymbolsrounded/{icon_name}/fill1/24px.svg\",\n",
    "    ]\n",
    "\n",
    "    file_path = Path(OUTPUT_PATH) / f\"{icon_name}_24dp.svg\"\n",
    "\n",
    "    if file_path.is_file():\n",
    "        print(f\"Skipping '{file_path}' (already exists)\")\n",
    "        continue\n",
    "\n",
    "    for icon_url in icon_urls:\n",
    "        content = download_text(icon_url)\n",
    "\n",
    "        if content:\n",
    "            break\n",
    "\n",
    "    output_svg = process_svg(content)\n",
    "    save_text(output_svg, file_path)\n",
    "    print(f\"Saved '{file_path}'\")"
   ]
  },
  {
   "cell_type": "markdown",
   "metadata": {},
   "source": [
    "## Generate Schema Text"
   ]
  },
  {
   "cell_type": "code",
   "execution_count": null,
   "metadata": {},
   "outputs": [],
   "source": [
    "json_objs = []\n",
    "\n",
    "for idx, row in df_activities.iterrows():\n",
    "    json_objs.append(\n",
    "        {\n",
    "            \"type\": \"string\",\n",
    "            \"const\": row['activity_key'],\n",
    "            \"title\": row['activity_name'],\n",
    "            \"description\": \"\",\n",
    "            \"extra_color\": row['activity_color'],\n",
    "            \"extra_icon\": f\"activity_types/{row['material_icon']}_24dp.svg\"\n",
    "        }\n",
    "    )\n",
    "\n",
    "print(json.dumps(json_objs, indent=4))"
   ]
  }
 ],
 "metadata": {
  "interpreter": {
   "hash": "e7370f93d1d0cde622a1f8e1c04877d8463912d04d973331ad4851f04de6915a"
  },
  "kernelspec": {
   "display_name": "Python 3.10.2 64-bit",
   "language": "python",
   "name": "python3"
  },
  "language_info": {
   "codemirror_mode": {
    "name": "ipython",
    "version": 3
   },
   "file_extension": ".py",
   "mimetype": "text/x-python",
   "name": "python",
   "nbconvert_exporter": "python",
   "pygments_lexer": "ipython3",
   "version": "3.10.2"
  },
  "orig_nbformat": 4
 },
 "nbformat": 4,
 "nbformat_minor": 2
}
