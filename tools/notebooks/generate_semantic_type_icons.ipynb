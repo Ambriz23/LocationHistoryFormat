{
 "cells": [
  {
   "cell_type": "markdown",
   "metadata": {},
   "source": [
    "# Generate Semantic Type Icons\n",
    "\n",
    "This notebook is used to generate the icons for the `#/$defs/semanticType` schema of the `Records.schema.json` schema.\n",
    "\n",
    "Icons source: [Material Icons: Google Fonts](https://fonts.google.com/icons)."
   ]
  },
  {
   "cell_type": "code",
   "execution_count": null,
   "metadata": {},
   "outputs": [],
   "source": [
    "from pathlib import Path\n",
    "\n",
    "import pandas as pd\n",
    "import xml.etree.ElementTree as ET\n",
    "\n",
    "sys.path.append(\"../\")\n",
    "from common import download_text, save_text"
   ]
  },
  {
   "cell_type": "code",
   "execution_count": null,
   "metadata": {},
   "outputs": [],
   "source": [
    "OUTPUT_PATH = \"../../docs/static/icons/material_semantic_types/\"\n",
    "ICONS = {\n",
    "    \"home\": (6,),\n",
    "    \"work\": (10,),\n",
    "    \"label\": (8,),\n",
    "    \"schedule\": (6,),\n",
    "}"
   ]
  },
  {
   "cell_type": "code",
   "execution_count": null,
   "metadata": {},
   "outputs": [],
   "source": [
    "def process_svg(svg_content, icon_buffer=8):\n",
    "    ns = {\"svg\": \"http://www.w3.org/2000/svg\"}\n",
    "    ET.register_namespace(\"\", ns[\"svg\"])\n",
    "\n",
    "    svg = ET.fromstring(svg_content)\n",
    "\n",
    "    # Set the main color.\n",
    "    svg.attrib[\"fill\"] = \"white\"\n",
    "\n",
    "    # Adjust viewbox to provide the required buffer between the backgourd circle and the icon.\n",
    "    svg.attrib[\"viewBox\"] = f\"-{icon_buffer} -{icon_buffer} {24 + 2*icon_buffer} {24 + 2*icon_buffer}\"\n",
    "\n",
    "    # Add the background circle\n",
    "    circle_bg = ET.Element(\n",
    "        \"circle\",\n",
    "        attrib={\n",
    "            \"cx\": \"12\",\n",
    "            \"cy\": \"12\",\n",
    "            \"r\": str(12 + icon_buffer),\n",
    "            \"fill\": \"#78909c\",\n",
    "        },\n",
    "    )\n",
    "    svg.insert(0, circle_bg)\n",
    "\n",
    "    # Return the SVG as a string.\n",
    "    return ET.tostring(svg, method=\"xml\", encoding=\"unicode\")"
   ]
  },
  {
   "cell_type": "code",
   "execution_count": null,
   "metadata": {},
   "outputs": [],
   "source": [
    "for icon_name, (icon_buffer,) in ICONS.items():\n",
    "    icon_urls = [\n",
    "        f\"https://fonts.gstatic.com/s/i/materialiconsround/{icon_name}/v4/24px.svg\",\n",
    "        f\"https://fonts.gstatic.com/s/i/materialiconsround/{icon_name}/v12/24px.svg\",\n",
    "        f\"https://fonts.gstatic.com/s/i/materialiconsround/{icon_name}/v14/24px.svg\",\n",
    "        f\"https://fonts.gstatic.com/s/i/materialiconsround/{icon_name}/v17/24px.svg\",\n",
    "        f\"https://fonts.gstatic.com/s/i/short-term/release/materialsymbolsrounded/{icon_name}/fill1/24px.svg\",\n",
    "    ]\n",
    "\n",
    "    file_path = Path(OUTPUT_PATH) / f\"{icon_name}_circled_24dp.svg\"\n",
    "\n",
    "    if file_path.is_file():\n",
    "        print(f\"Skipping '{file_path}' (already exists)\")\n",
    "        continue\n",
    "\n",
    "    for icon_url in icon_urls:\n",
    "        content = download_text(icon_url)\n",
    "\n",
    "        if content:\n",
    "            break\n",
    "\n",
    "    output_svg = process_svg(content, icon_buffer=icon_buffer)\n",
    "    save_text(output_svg, file_path)\n",
    "    print(f\"Saved '{file_path}'\")"
   ]
  }
 ],
 "metadata": {
  "interpreter": {
   "hash": "e7370f93d1d0cde622a1f8e1c04877d8463912d04d973331ad4851f04de6915a"
  },
  "kernelspec": {
   "display_name": "Python 3.10.2 64-bit",
   "language": "python",
   "name": "python3"
  },
  "language_info": {
   "codemirror_mode": {
    "name": "ipython",
    "version": 3
   },
   "file_extension": ".py",
   "mimetype": "text/x-python",
   "name": "python",
   "nbconvert_exporter": "python",
   "pygments_lexer": "ipython3",
   "version": "3.10.2"
  },
  "orig_nbformat": 4
 },
 "nbformat": 4,
 "nbformat_minor": 2
}
